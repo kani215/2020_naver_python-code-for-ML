{
 "cells": [
  {
   "cell_type": "markdown",
   "metadata": {},
   "source": [
    "# python - 비슷한 뉴스를 선정하는 기법"
   ]
  },
  {
   "cell_type": "markdown",
   "metadata": {},
   "source": [
    "1. 문제상황\n",
    "   컴퓨터는 문자를 논리적으로 이해하지는 못함\n",
    "   \n",
    "2. 코드의 논리 \n",
    "   (문자 - 숫자 변경해 이해하는 컴퓨터적 사고인데) 숫자로 유사하다는 이해를 어떻게 컴퓨터에게 지시할까?\n",
    "   \n"
   ]
  },
  {
   "cell_type": "markdown",
   "metadata": {},
   "source": [
    "## 문자를 vector로 one hot encoding =bag of words vector\n",
    "- 하나의 단어를 vector의 index로 인식시키는 방법\n",
    "\n",
    "\n",
    "rome = [1,0,0,0,0,0,0,0,0]\n",
    "paris = [0,1,0,0,0,0,0,0,0]\n",
    "rome, partis = [1,1,0,0,0,0,0,0,0,0]"
   ]
  },
  {
   "cell_type": "markdown",
   "metadata": {},
   "source": [
    "## 유클리드 distance\n",
    "\n",
    "좌표상 거리 차이로 유사성 판단"
   ]
  },
  {
   "cell_type": "markdown",
   "metadata": {},
   "source": [
    "## cosine distance\n",
    "cosine similarity 로 유사성 판단\n",
    "\n",
    "love, hate 코사인 simiarilty 사용"
   ]
  },
  {
   "cell_type": "markdown",
   "metadata": {},
   "source": [
    "# data set\n",
    "\n",
    "> 스포츠 기사 데이터 \n",
    "\n",
    "> 1234 야구 5678축구"
   ]
  },
  {
   "cell_type": "markdown",
   "metadata": {},
   "source": [
    "## process\n",
    "\n",
    "- 파일 불러오기\n",
    "- 파일 읽어서 단어사전 corpus 만들기\n",
    "> 신문 1개 별로 split 하고 , 소문자로 일괄변경, set으로 묶음_단어 종류가 궁금할 것이기 때문 \n",
    "- 단어별로 index만들기\n",
    "- 만들어진 인덱스로 문서별로 bag of words vector 생성\n",
    "> data가 작을 때도 유용함\n",
    "- 비교하고자 하는 문서 비교\n",
    "> 여기서는 cosine similarity 사용 문서 1개와 다른 것들을 비교\n",
    "- 얼마나 맞는지 측정\n",
    "> 정확도 측정도 중요합니다.\n"
   ]
  },
  {
   "cell_type": "code",
   "execution_count": null,
   "metadata": {},
   "outputs": [],
   "source": [
    "def get_file_list(dir_name):\n",
    "    return os.listdir(dir_name)\n",
    "\n",
    "if __name__ == \"__main__\" :\n",
    "    dir_name=\"news_data\"\n",
    "    file_list = get_file_list(dir_name)\n",
    "    file_list = [os.path.join(dir_name,file_name) for file_name in file_list]\n",
    "    \n"
   ]
  },
  {
   "cell_type": "code",
   "execution_count": null,
   "metadata": {},
   "outputs": [],
   "source": []
  }
 ],
 "metadata": {
  "kernelspec": {
   "display_name": "Python 3",
   "language": "python",
   "name": "python3"
  },
  "language_info": {
   "codemirror_mode": {
    "name": "ipython",
    "version": 3
   },
   "file_extension": ".py",
   "mimetype": "text/x-python",
   "name": "python",
   "nbconvert_exporter": "python",
   "pygments_lexer": "ipython3",
   "version": "3.7.3"
  }
 },
 "nbformat": 4,
 "nbformat_minor": 2
}
