{
 "cells": [
  {
   "cell_type": "markdown",
   "metadata": {},
   "source": [
    "# 1) numerical python _numpy\n",
    "\n",
    "- 인터프리터 언어이기에 느려 (기계어 전환 없이 한줄한줄 해석 출력) 빌드 과정없이 바로 수정가능 장점\n",
    "\n",
    "- 파이썬 과학 처리 패키지 numpy\n",
    "\n",
    "- array 연산이 일반적 , list보다 빠르고 메모리 효율적, 반복문 없이 데이터 배열 처리 가능 \n",
    "\n",
    "- 선형 대수 풀이는 다 가능\n",
    "\n",
    "- 주피터 내장\n",
    "\n",
    "- dynamic typing 메모리에 타입을 계속해서 추가 , 하나의 데이터에 다수 타입이 존재할수도\n",
    "\n",
    "- 허나 numpy는 임의적으로 하나로 통일시킴"
   ]
  },
  {
   "cell_type": "markdown",
   "metadata": {},
   "source": [
    "## 1. numpy 모듈의 호출"
   ]
  },
  {
   "cell_type": "code",
   "execution_count": 4,
   "metadata": {},
   "outputs": [],
   "source": [
    "import numpy as np\n"
   ]
  },
  {
   "cell_type": "markdown",
   "metadata": {},
   "source": [
    "- np라는 별칭 사용\n",
    "\n",
    "- numpy 호출"
   ]
  },
  {
   "cell_type": "markdown",
   "metadata": {},
   "source": [
    "## 2. array의 생성"
   ]
  },
  {
   "cell_type": "code",
   "execution_count": 5,
   "metadata": {},
   "outputs": [
    {
     "data": {
      "text/plain": [
       "array([1., 4., 5., 8.])"
      ]
     },
     "execution_count": 5,
     "metadata": {},
     "output_type": "execute_result"
    }
   ],
   "source": [
    "test_array = np.array([\"1\",\"4\",5,8],float)\n",
    "test_array"
   ]
  },
  {
   "cell_type": "code",
   "execution_count": null,
   "metadata": {},
   "outputs": [],
   "source": [
    "type(test_array[3])"
   ]
  },
  {
   "cell_type": "code",
   "execution_count": 1,
   "metadata": {},
   "outputs": [
    {
     "data": {
      "text/plain": [
       "[0, 2, 3]"
      ]
     },
     "execution_count": 1,
     "metadata": {},
     "output_type": "execute_result"
    }
   ],
   "source": [
    "a = [1,2,3]\n",
    "b = a\n",
    "a[0] = 0\n",
    "b\n",
    "\n",
    "#b =a 는 같은 값을 의미하는 것이 아닌 메모리 주소를 a걸 쓰겠다는 의미인데\n",
    "#파이썬 list는 그 안에 값이 아니라 메모리 주소를 가르키는 것이라 b=a로 인해 값이 똑같이 변경됩니다.\n",
    "#이를 막기 위해\n",
    "\n",
    "import copy\n",
    "\n",
    "copy.deepcopy() 로 가르쳐서 이를 막는다.\n",
    "\n",
    "허나 numpy는 그냥 값이 들어가서 이런 오류가 없다."
   ]
  },
  {
   "cell_type": "markdown",
   "metadata": {},
   "source": [
    "## 3. shape"
   ]
  },
  {
   "cell_type": "code",
   "execution_count": 6,
   "metadata": {
    "scrolled": true
   },
   "outputs": [
    {
     "data": {
      "text/plain": [
       "(4,)"
      ]
     },
     "execution_count": 6,
     "metadata": {},
     "output_type": "execute_result"
    }
   ],
   "source": [
    "# shape 차원의 크기를 반영한다.\n",
    "test_array.shape"
   ]
  },
  {
   "cell_type": "markdown",
   "metadata": {},
   "source": [
    "reshape\n",
    "- array 1차원 8행을  2차원 4행으로 만들 경우 같은 상황"
   ]
  },
  {
   "cell_type": "code",
   "execution_count": 8,
   "metadata": {},
   "outputs": [
    {
     "data": {
      "text/plain": [
       "array([1, 2, 3, 4, 1, 2, 3, 5])"
      ]
     },
     "execution_count": 8,
     "metadata": {},
     "output_type": "execute_result"
    }
   ],
   "source": [
    "test_matrix = [[1,2,3,4],[1,2,3,5]]\n",
    "np.array(test_matrix).shape\n",
    "\n",
    "np.array(test_matrix).reshape(8)   # 총 칸수 맞어야합니다.  reshape(row , column수)"
   ]
  },
  {
   "cell_type": "code",
   "execution_count": null,
   "metadata": {},
   "outputs": [],
   "source": []
  }
 ],
 "metadata": {
  "kernelspec": {
   "display_name": "Python 3",
   "language": "python",
   "name": "python3"
  },
  "language_info": {
   "codemirror_mode": {
    "name": "ipython",
    "version": 3
   },
   "file_extension": ".py",
   "mimetype": "text/x-python",
   "name": "python",
   "nbconvert_exporter": "python",
   "pygments_lexer": "ipython3",
   "version": "3.7.3"
  }
 },
 "nbformat": 4,
 "nbformat_minor": 2
}
