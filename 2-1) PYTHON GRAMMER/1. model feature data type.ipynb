{
 "cells": [
  {
   "cell_type": "markdown",
   "metadata": {},
   "source": [
    "### 머신 러닝의 과정\n",
    "\n",
    "기존 데이터 > 알고리즘 적용 모델제작 > 새 데이터로 > 예측을 하는 과정"
   ]
  },
  {
   "cell_type": "markdown",
   "metadata": {},
   "source": [
    "### 영화 관객수 예측\n",
    "\n",
    "\n",
    "> feature : 기존 데이터의 왓챠 보고 싶어요 수, 총 관객 수\n",
    "    \n",
    "> 일정 논리로 원하는 옥자 실제 관객 수를 예측해 보는 것\n",
    "36293\n",
    "\n",
    "> model : 예측을 위한 수학 공식 함수\n",
    "\n",
    "\n",
    "y : ax+b \n",
    "\n",
    "알고리즘을 통해 최적값을 찾는 ab x가 독립적인 값\n"
   ]
  },
  {
   "cell_type": "markdown",
   "metadata": {},
   "source": [
    "### 보스턴 집값 예측 알고리즘\n",
    "\n",
    "변수는 13개\n",
    "\n",
    "y = b1x1+b2x2+b3x3+b4x4+b5x5+b6x6+b7x7+b8x8+b9x9+b10x10+b11x11\n",
    "\n",
    " = 시그마 0에서 12까지 b*x 입니다\n",
    " \n",
    " 이 형태는 쉽게 list의 곱들이 되는데 이를 파이썬의 여러도구들로 해결하는 법을 배울 것"
   ]
  }
 ],
 "metadata": {
  "kernelspec": {
   "display_name": "Python 3",
   "language": "python",
   "name": "python3"
  },
  "language_info": {
   "codemirror_mode": {
    "name": "ipython",
    "version": 3
   },
   "file_extension": ".py",
   "mimetype": "text/x-python",
   "name": "python",
   "nbconvert_exporter": "python",
   "pygments_lexer": "ipython3",
   "version": "3.7.6"
  }
 },
 "nbformat": 4,
 "nbformat_minor": 2
}
