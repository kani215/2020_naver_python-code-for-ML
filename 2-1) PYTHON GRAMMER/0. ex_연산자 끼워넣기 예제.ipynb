{
 "cells": [
  {
   "cell_type": "markdown",
   "metadata": {},
   "source": [
    "# 14888번 연산자 끼워넣기"
   ]
  },
  {
   "cell_type": "code",
   "execution_count": null,
   "metadata": {},
   "outputs": [],
   "source": [
    "num = int(input())\n",
    "keylist = list(map(int,input().split()))\n",
    "plus, minus, mult, su = map(int,input().split())\n",
    "\n",
    "for i in range(num):\n",
    "    \n"
   ]
  },
  {
   "cell_type": "markdown",
   "metadata": {},
   "source": [
    "# 전략\n",
    "\n",
    "가장 쉬운 전술은 모든 경우의 수를 구해서 넣는것\n",
    "\n",
    "5개면 5! 구하고 max min 구하는 것"
   ]
  },
  {
   "cell_type": "code",
   "execution_count": 12,
   "metadata": {},
   "outputs": [
    {
     "name": "stdout",
     "output_type": "stream",
     "text": [
      "6\n",
      "1 2 3 4 5 6\n",
      "2 1 1 1\n",
      "[['1', '2', '0', '0', '3'], ['1', '3', '0', '0', '2'], ['2', '0', '0', '3', '1'], ['2', '0', '3', '0', '1'], ['2', '1', '0', '3', '0'], ['2', '1', '3', '0', '0'], ['2', '3', '0', '0', '1'], ['2', '1', '0', '0', '3'], ['3', '0', '0', '1', '2'], ['3', '0', '1', '0', '2'], ['3', '1', '0', '0', '2'], ['0', '3', '0', '1', '2'], ['0', '3', '1', '0', '2'], ['3', '0', '1', '2', '0'], ['3', '0', '2', '1', '0'], ['0', '3', '0', '2', '1'], ['0', '3', '2', '0', '1'], ['0', '1', '0', '3', '2'], ['0', '1', '3', '0', '2'], ['3', '2', '0', '1', '0'], ['3', '2', '1', '0', '0'], ['2', '0', '0', '1', '3'], ['2', '0', '1', '0', '3'], ['2', '0', '1', '3', '0'], ['2', '0', '3', '1', '0'], ['2', '3', '0', '1', '0'], ['2', '3', '1', '0', '0'], ['1', '2', '0', '3', '0'], ['1', '2', '3', '0', '0'], ['1', '3', '0', '2', '0'], ['1', '3', '2', '0', '0'], ['3', '1', '0', '2', '0'], ['3', '1', '2', '0', '0'], ['3', '2', '0', '0', '1'], ['0', '2', '3', '0', '1'], ['0', '2', '0', '3', '1'], ['0', '2', '0', '1', '3'], ['0', '2', '1', '0', '3'], ['0', '0', '3', '2', '1'], ['0', '2', '1', '3', '0'], ['0', '2', '3', '1', '0'], ['0', '0', '2', '3', '1'], ['0', '3', '1', '2', '0'], ['0', '3', '2', '1', '0'], ['3', '0', '2', '0', '1'], ['1', '0', '0', '2', '3'], ['1', '0', '0', '3', '2'], ['0', '1', '2', '3', '0'], ['0', '1', '3', '2', '0'], ['1', '0', '2', '0', '3'], ['1', '0', '3', '0', '2'], ['0', '0', '1', '2', '3'], ['0', '0', '2', '1', '3'], ['0', '0', '3', '1', '2'], ['0', '0', '1', '3', '2'], ['0', '1', '0', '2', '3'], ['0', '1', '2', '0', '3'], ['1', '0', '2', '3', '0'], ['1', '0', '3', '2', '0'], ['3', '0', '0', '2', '1']]\n",
      "[29, -5, 54, 30, 0, -24, 6, 12, 1, 1, 0, 6, 6, 1, 0, 6, 7, 5, 2, 3, 1, 36, 24, 12, 30, 0, 0, 19, -1, -4, -2, 1, 3, 5, 6, 26, 11, 1, 11, -9, 6, 11, 7, 6, 2, 3, 3, 5, 3, 11, 0, 7, -1, 11, 7, 5, 13, 3, 1, 1]\n",
      "54\n",
      "-24\n"
     ]
    }
   ],
   "source": [
    "import itertools\n",
    "from functools import reduce\n",
    "import sys\n",
    "import time\n",
    "import math \n",
    "\n",
    "length = input()\n",
    "input_num = list(map(int,input().split()))\n",
    "input_oper = list(map(int,input().split()))\n",
    "\n",
    "def insert_operation(length,input_num, input_oper) :\n",
    "    #길이, 123456, 2111\n",
    "    ops ={\"0\":(lambda x,y:x+y), \"1\":(lambda x,y:x-y), \"2\":(lambda x,y: x*y),\"3\":(lambda x,y: int(x/y)) }\n",
    "    # 함수가 여럿일때 lambda로 이런 식이 가능함\n",
    "    oper_permutation = []\n",
    "    result = []\n",
    "    list(oper_permutation.extend([str(index)]*value) for index, value in enumerate(input_oper) if value > 0 )\n",
    "    # 값이 0보다 클때만 계산해주면 되며, 그 index가지고 오면 lambda 작동도 가능해져서 enumerate로 가져온다.\n",
    "    \n",
    "    permutation = [list(x) for x in set(itertools.permutations(oper_permutation))]\n",
    "    print(permutation)\n",
    "    # 순열 함수, 순서다르면 다름  모든 경우 출력\n",
    "    for i in permutation:\n",
    "        result.append(reduce(lambda x,y:ops[i.pop()](x,y),input_num))\n",
    "    print(result)\n",
    "    print(str(max(result))+\"\\n\"+str(min(result)))\n",
    "                                   \n",
    "insert_operation(length,input_num,input_oper)"
   ]
  }
 ],
 "metadata": {
  "kernelspec": {
   "display_name": "Python 3",
   "language": "python",
   "name": "python3"
  },
  "language_info": {
   "codemirror_mode": {
    "name": "ipython",
    "version": 3
   },
   "file_extension": ".py",
   "mimetype": "text/x-python",
   "name": "python",
   "nbconvert_exporter": "python",
   "pygments_lexer": "ipython3",
   "version": "3.7.3"
  }
 },
 "nbformat": 4,
 "nbformat_minor": 2
}
